{
 "cells": [
  {
   "cell_type": "markdown",
   "metadata": {},
   "source": [
    "# Q1:"
   ]
  },
  {
   "cell_type": "markdown",
   "metadata": {},
   "source": [
    "Think of at least three kinds of your favorite pizza. Store these pizza names in a list, and then use a for loop to print the name of each pizza."
   ]
  },
  {
   "cell_type": "code",
   "execution_count": 2,
   "metadata": {},
   "outputs": [
    {
     "name": "stdout",
     "output_type": "stream",
     "text": [
      "Mozzarella Pizza\n",
      "Peperroni Pizza\n",
      "Garlic Pizza\n"
     ]
    }
   ],
   "source": [
    "pizza=[\"Mozzarella Pizza\",\"Peperroni Pizza\",\"Garlic Pizza\"]\n",
    "for pizzas in pizza:\n",
    "    print(pizzas)"
   ]
  },
  {
   "cell_type": "code",
   "execution_count": null,
   "metadata": {},
   "outputs": [],
   "source": []
  },
  {
   "cell_type": "code",
   "execution_count": null,
   "metadata": {},
   "outputs": [],
   "source": []
  },
  {
   "cell_type": "markdown",
   "metadata": {},
   "source": [
    "# Q2"
   ]
  },
  {
   "cell_type": "markdown",
   "metadata": {},
   "source": [
    "Start with your last question , Modify your for loop to print a sentence using the name of the pizza\n",
    "instead of printing just the name of the pizza. For each pizza you should\n",
    "have one line of output containing a simple statement like I like pepperoni\n",
    "pizza."
   ]
  },
  {
   "cell_type": "code",
   "execution_count": 3,
   "metadata": {},
   "outputs": [
    {
     "name": "stdout",
     "output_type": "stream",
     "text": [
      "I like Garlic Pizza\n",
      "I like Mozzarella Pizza\n",
      "I like Peperroni Pizza\n"
     ]
    }
   ],
   "source": [
    "pizza=[\"Garlic Pizza\",\"Mozzarella Pizza\",\"Peperroni Pizza\"]\n",
    "for pizzas in pizza:\n",
    "    print(f\"I like {pizzas}\")"
   ]
  },
  {
   "cell_type": "code",
   "execution_count": null,
   "metadata": {},
   "outputs": [],
   "source": []
  },
  {
   "cell_type": "code",
   "execution_count": null,
   "metadata": {},
   "outputs": [],
   "source": []
  },
  {
   "cell_type": "markdown",
   "metadata": {},
   "source": [
    "# Q3:"
   ]
  },
  {
   "cell_type": "markdown",
   "metadata": {},
   "source": [
    "Use a for loop to print the numbers from 1 to 20,\n",
    "inclusive."
   ]
  },
  {
   "cell_type": "code",
   "execution_count": 6,
   "metadata": {},
   "outputs": [
    {
     "name": "stdout",
     "output_type": "stream",
     "text": [
      "1\n",
      "2\n",
      "3\n",
      "4\n",
      "5\n",
      "6\n",
      "7\n",
      "8\n",
      "9\n",
      "10\n",
      "11\n",
      "12\n",
      "13\n",
      "14\n",
      "15\n",
      "16\n",
      "17\n",
      "18\n",
      "19\n",
      "20\n"
     ]
    }
   ],
   "source": [
    "for num in range(1,21):\n",
    "    print(num)"
   ]
  },
  {
   "cell_type": "code",
   "execution_count": null,
   "metadata": {},
   "outputs": [],
   "source": []
  },
  {
   "cell_type": "code",
   "execution_count": null,
   "metadata": {},
   "outputs": [],
   "source": []
  },
  {
   "cell_type": "markdown",
   "metadata": {},
   "source": [
    "# Q4:"
   ]
  },
  {
   "cell_type": "markdown",
   "metadata": {},
   "source": [
    "Use the third argument of the range() function to make a list\n",
    "of the odd numbers from 1 to 20. Use a for loop to print each number."
   ]
  },
  {
   "cell_type": "code",
   "execution_count": 8,
   "metadata": {},
   "outputs": [
    {
     "name": "stdout",
     "output_type": "stream",
     "text": [
      "1\n",
      "3\n",
      "5\n",
      "7\n",
      "9\n",
      "11\n",
      "13\n",
      "15\n",
      "17\n",
      "19\n"
     ]
    }
   ],
   "source": [
    "for oddnum in range(1,21,2):\n",
    "    print(oddnum)"
   ]
  },
  {
   "cell_type": "code",
   "execution_count": null,
   "metadata": {},
   "outputs": [],
   "source": []
  },
  {
   "cell_type": "code",
   "execution_count": null,
   "metadata": {},
   "outputs": [],
   "source": []
  },
  {
   "cell_type": "markdown",
   "metadata": {},
   "source": [
    "# Q5:"
   ]
  },
  {
   "cell_type": "markdown",
   "metadata": {},
   "source": [
    "Make a list of the multiples of 3 from 3 to 30. Use a for loop to\n",
    "print the numbers in your list."
   ]
  },
  {
   "cell_type": "code",
   "execution_count": 23,
   "metadata": {},
   "outputs": [
    {
     "name": "stdout",
     "output_type": "stream",
     "text": [
      "3\n",
      "6\n",
      "9\n",
      "12\n",
      "15\n",
      "18\n",
      "21\n",
      "24\n",
      "27\n",
      "30\n"
     ]
    }
   ],
   "source": [
    "a=[value for value in range(3,31,3)]\n",
    "for oddnum in a:\n",
    "    print(oddnum)"
   ]
  },
  {
   "cell_type": "code",
   "execution_count": null,
   "metadata": {},
   "outputs": [],
   "source": []
  },
  {
   "cell_type": "code",
   "execution_count": null,
   "metadata": {},
   "outputs": [],
   "source": []
  },
  {
   "cell_type": "markdown",
   "metadata": {},
   "source": [
    "# Q6:"
   ]
  },
  {
   "cell_type": "markdown",
   "metadata": {},
   "source": [
    "A number raised to the third power is called a cube. For example,\n",
    "the cube of 2 is written as 2**3 in Python. Make a list of the first 10 cubes (that\n",
    "is, the cube of each integer from 1 through 10), and use a for loop to print out\n",
    "the value of each cube"
   ]
  },
  {
   "cell_type": "code",
   "execution_count": 44,
   "metadata": {},
   "outputs": [
    {
     "name": "stdout",
     "output_type": "stream",
     "text": [
      "1\n",
      "8\n",
      "27\n",
      "64\n",
      "125\n",
      "216\n",
      "343\n",
      "512\n",
      "729\n",
      "1000\n"
     ]
    }
   ],
   "source": [
    "a=[value for value in range(1,11)]\n",
    "for oddnum in a:\n",
    "    print(oddnum**3)"
   ]
  },
  {
   "cell_type": "code",
   "execution_count": null,
   "metadata": {},
   "outputs": [],
   "source": []
  },
  {
   "cell_type": "code",
   "execution_count": null,
   "metadata": {},
   "outputs": [],
   "source": []
  },
  {
   "cell_type": "markdown",
   "metadata": {},
   "source": [
    "# Q7:"
   ]
  },
  {
   "cell_type": "markdown",
   "metadata": {},
   "source": [
    "###### Make a python program that conatains your nine favourite dishes in a list called foods.\n",
    "\n",
    "###### Print the message, The first three items in the list are:. \n",
    "###### Then use a slice to print the first three items from that program’s list.\n",
    "\n",
    "###### Print the message, Three items from the middle of the list are:\n",
    "###### Use a slice to print three items from the middle of the list.\n",
    "\n",
    "###### Print the message, The last three items in the list are:\n",
    "###### Use a slice to print the last three items in the list."
   ]
  },
  {
   "cell_type": "code",
   "execution_count": 78,
   "metadata": {},
   "outputs": [
    {
     "name": "stdout",
     "output_type": "stream",
     "text": [
      "The first three items in the list are:\n",
      "Qorma\n",
      "Achar Gosht\n",
      "White Karahi\n",
      "\n",
      "Three items from the middle of the list are:\n",
      "Chicken Karahi\n",
      "Nalli Biryani\n",
      "Chicken Tikka\n",
      "\n",
      "The last three items in the list are:\n",
      "Mix Sabzi\n",
      "Daal Maash\n",
      "BBQ\n"
     ]
    }
   ],
   "source": [
    "dishes = [\"Qorma\",\"Achar Gosht\",\"White Karahi\",\"Chicken Karahi\", \"Nalli Biryani\",\"Chicken Tikka\", \"Mix Sabzi\", \"Daal Maash\", \"BBQ\",\"Chicken Biryani\"]\n",
    "print(\"The first three items in the list are:\")\n",
    "for a in dishes[0:3]:\n",
    "    print(a)\n",
    "\n",
    "print(\"\\nThree items from the middle of the list are:\")\n",
    "for a in dishes[3:6]:\n",
    "    print(a)\n",
    "\n",
    "print(\"\\nThe last three items in the list are:\")\n",
    "for a in dishes[6:9]:\n",
    "    print(a)"
   ]
  },
  {
   "cell_type": "code",
   "execution_count": null,
   "metadata": {},
   "outputs": [],
   "source": []
  },
  {
   "cell_type": "code",
   "execution_count": null,
   "metadata": {},
   "outputs": [],
   "source": []
  },
  {
   "cell_type": "markdown",
   "metadata": {},
   "source": [
    "# Q8:"
   ]
  },
  {
   "cell_type": "markdown",
   "metadata": {},
   "source": [
    "### Start with your program from your last Question8.\n",
    "###### Make a copy of the list of foods, and call it friend_foods.\n",
    "###### Then, do the following:\n",
    "######    Add a new dish to the original list.\n",
    "######    Add a different dish to the list friend_foodss.\n",
    "######    Prove that you have two separate lists. \n",
    "###### Print the message, My favorite pizzas are: and then use a for loop to print the first list. \n",
    "###### Print the message,\n",
    "###### My friend’s favorite foods are:, and then use a for loop to print the second list.\n",
    "    \n",
    "##### NOTE: Make sure each new dish is stored in the appropriate list."
   ]
  },
  {
   "cell_type": "code",
   "execution_count": 79,
   "metadata": {},
   "outputs": [
    {
     "name": "stdout",
     "output_type": "stream",
     "text": [
      "My favorite foods are:\n",
      "\n",
      "Qorma\n",
      "Achar Gosht\n",
      "White Karahi\n",
      "Chicken Karahi\n",
      "Nalli Biryani\n",
      "Chicken Tikka\n",
      "Mix Sabzi\n",
      "Daal Maash\n",
      "BBQ\n",
      "Chicken Biryani\n",
      "Nihaari\n",
      "\n",
      "My friend's favorite foods are:\n",
      "\n",
      "Qorma\n",
      "Achar Gosht\n",
      "White Karahi\n",
      "Chicken Karahi\n",
      "Nalli Biryani\n",
      "Chicken Tikka\n",
      "Mix Sabzi\n",
      "Daal Maash\n",
      "BBQ\n",
      "Chicken Biryani\n",
      "Chapli Kabaab\n"
     ]
    }
   ],
   "source": [
    "my_foods = [\"Qorma\",\"Achar Gosht\",\"White Karahi\",\"Chicken Karahi\", \"Nalli Biryani\",\"Chicken Tikka\", \"Mix Sabzi\", \"Daal Maash\", \"BBQ\",\"Chicken Biryani\"]\n",
    "#my_foods = [\"Chicken Biryani\", \"Plao\", \"Daal Chaawal\", \"Qorma\", \"Chicken Karahi\", \"Chicken Tikka\", \"Mix Sabzi\", \"Daal Maash\", \"BBQ\"]\n",
    "friend_foods = my_foods.copy()\n",
    "my_foods.append(\"Nihaari\")\n",
    "friend_foods.append(\"Chapli Kabaab\")\n",
    "print(\"My favorite foods are:\\n\")\n",
    "for food in my_foods:\n",
    "    print(food)\n",
    "    \n",
    "print(\"\\nMy friend's favorite foods are:\\n\")\n",
    "\n",
    "for food in friend_foods:\n",
    "    print(food)"
   ]
  },
  {
   "cell_type": "code",
   "execution_count": null,
   "metadata": {},
   "outputs": [],
   "source": [
    "my_foods = [\"Chicken Biryani\", \"Plao\", \"Daal Chaawal\", \"Qorma\", \"Chicken Karahi\", \"Chicken Tikka\", \"Mix Sabzi\", \"Daal Maash\", \"BBQ\"]\n",
    "friend_foods = my_foods.copy()\n",
    "my_foods.append(\"Nihaari\")\n",
    "friend_foods.append(\"Chapli Kabaab\")\n",
    "print(\"My favorite foods are:\\n\")\n",
    "for food in my_foods:\n",
    "    print(food)\n",
    "    \n",
    "print(\"\\nMy friend's favorite foods are:\\n\")\n",
    "\n",
    "for food in friend_foods:\n",
    "    print(food)"
   ]
  },
  {
   "cell_type": "code",
   "execution_count": null,
   "metadata": {},
   "outputs": [],
   "source": []
  },
  {
   "cell_type": "code",
   "execution_count": null,
   "metadata": {},
   "outputs": [],
   "source": []
  },
  {
   "cell_type": "markdown",
   "metadata": {},
   "source": [
    "# Q9:"
   ]
  },
  {
   "cell_type": "markdown",
   "metadata": {},
   "source": [
    "Take a user input from console line.Store it in a variable called Alien_color.\n",
    "\n",
    "If the alien’s color is red, print a statement that the player just earned 5 points for shooting the alien.\n",
    "\n",
    "If the alien’s color isn’t green, print a statement that the player just earned 10 points.\n",
    "\n",
    "If the alien's color isn't red or green , print a statment :, Alien is no more....."
   ]
  },
  {
   "cell_type": "code",
   "execution_count": 25,
   "metadata": {},
   "outputs": [
    {
     "name": "stdout",
     "output_type": "stream",
     "text": [
      "Enter Color: red\n",
      "The player just earned 5 points for shooting the alien\n"
     ]
    }
   ],
   "source": [
    "Alien_color=input(\"Enter Color: \").lower()\n",
    "if Alien_color==\"red\":\n",
    "    print(\"The player just earned 5 points for shooting the alien\")\n",
    "elif Alien_color==\"green\":\n",
    "    print(\"The player just earned 10 points\")\n",
    "else:\n",
    "    print(\"Alien is no more.....\")"
   ]
  },
  {
   "cell_type": "code",
   "execution_count": null,
   "metadata": {},
   "outputs": [],
   "source": []
  },
  {
   "cell_type": "code",
   "execution_count": null,
   "metadata": {},
   "outputs": [],
   "source": []
  },
  {
   "cell_type": "code",
   "execution_count": null,
   "metadata": {},
   "outputs": [],
   "source": []
  },
  {
   "cell_type": "markdown",
   "metadata": {},
   "source": [
    "# Q10:"
   ]
  },
  {
   "cell_type": "markdown",
   "metadata": {},
   "source": [
    "Write an if-elif-else chain that determines a person’s\n",
    "stage of life. Set a value for the variable age, and then:\n",
    "    \n",
    "•\t If the person is less than 2 years old, print a message that the person is a baby.\n",
    "\n",
    "•\t If the person is at least 2 years old but less than 4, print a message that the person is a toddler.\n",
    "\n",
    "•\t If the person is at least 4 years old but less than 13, print a message that the person is a kid.\n",
    "\n",
    "•\t If the person is at least 13 years old but less than 20, print a message that the person is a teenager.\n",
    "\n",
    "•\t If the person is at least 20 years old but less than 65, print a message that the person is an adult.\n",
    "\n",
    "•\t If the person is age 65 or older, print a message that the person is an elder."
   ]
  },
  {
   "cell_type": "code",
   "execution_count": 42,
   "metadata": {},
   "outputs": [
    {
     "name": "stdout",
     "output_type": "stream",
     "text": [
      "The person is an adult\n"
     ]
    }
   ],
   "source": [
    "age=28\n",
    "if age<2:\n",
    "    print(\"The person is a baby\")\n",
    "elif age>=2 and age<4:\n",
    "    print(\"The person is a toddler\")\n",
    "elif age>=4 and age<13:\n",
    "    print(\"The person is a kid\")\n",
    "elif age>=13 and age<20:\n",
    "    print(\"The person is a teenager\")\n",
    "elif age>=20 and age<65:\n",
    "    print(\"The person is an adult\")\n",
    "else:\n",
    "    print(\"The person is an elder.\")"
   ]
  },
  {
   "cell_type": "markdown",
   "metadata": {},
   "source": [
    "## "
   ]
  },
  {
   "cell_type": "code",
   "execution_count": null,
   "metadata": {},
   "outputs": [],
   "source": []
  },
  {
   "cell_type": "markdown",
   "metadata": {},
   "source": [
    "# Q11:"
   ]
  },
  {
   "cell_type": "markdown",
   "metadata": {},
   "source": [
    "Do the following to create a program that simulates how websites ensure that everyone has a unique username.\n",
    "\n",
    "•\t Make a list of five or more usernames called current_users.\n",
    "\n",
    "•\t Make another list of five usernames called new_users. \n",
    "Make sure one or two of the new usernames are also in the current_users list.\n",
    "\n",
    "•\t Loop through the new_users list to see if each new username has already been used. \n",
    "If it has, print a message that the person will need to enter a new username. \n",
    "If a username has not been used, print a message saying that the username is available.\n",
    "\n",
    "•\t Make sure your comparison is case insensitive. If 'John' has been used, 'JOHN' should not be accepted."
   ]
  },
  {
   "cell_type": "code",
   "execution_count": 2,
   "metadata": {},
   "outputs": [
    {
     "name": "stdout",
     "output_type": "stream",
     "text": [
      "'Hamza' username is already used.\n",
      "Please enter a new username.\n",
      "\n",
      "Enter Username: Daniyal\n",
      "'Khizar' username is available!\n",
      "'Daniyal' username is already used.\n",
      "Please enter a new username.\n",
      "\n",
      "Enter Username: Khizar\n",
      "'Daniyal' username is already used.\n",
      "Please enter a new username.\n",
      "\n",
      "Enter Username: Haris\n",
      "'Haris' username is available!\n"
     ]
    }
   ],
   "source": [
    "current_users=[\"Hamza\",\"Moiz\",\"Aftab\",\"Daniyal\",\"Ali\"]\n",
    "new_users=[\"Hamza\",\"Azam\",\"Khizar\",\"Daniyal\",\"Zayan\"]\n",
    "for new_user in new_users:\n",
    "    if new_user in current_users:\n",
    "        print(\"'\"+new_user+ \"' username is already used.\\nPlease enter a new username.\\n\")\n",
    "        \n",
    "        new_users.remove(new_user)\n",
    "        username = input(\"Enter Username: \")\n",
    "        if username.lower() == new_user.lower():\n",
    "            print(\"'\"+new_user+ \"' username is already used.\\n Please enter a new username.\\n\")\n",
    "        else:\n",
    "            new_users.append(username.title())\n",
    "    else:\n",
    "        print(\"'\"+new_user+ \"' username is available!\")\n"
   ]
  },
  {
   "cell_type": "code",
   "execution_count": null,
   "metadata": {},
   "outputs": [],
   "source": []
  },
  {
   "cell_type": "code",
   "execution_count": null,
   "metadata": {},
   "outputs": [],
   "source": []
  },
  {
   "cell_type": "code",
   "execution_count": null,
   "metadata": {},
   "outputs": [],
   "source": []
  },
  {
   "cell_type": "markdown",
   "metadata": {},
   "source": [
    "# Q12:"
   ]
  },
  {
   "cell_type": "markdown",
   "metadata": {},
   "source": [
    "Use a dictionary to store information about a person you know.\n",
    "Store their first name, last name, age, and the city in which they live. \n",
    "You should have keys such as first_name, last_name, age, and city. \n",
    "Print each piece of information stored in your dictionary"
   ]
  },
  {
   "cell_type": "code",
   "execution_count": 25,
   "metadata": {},
   "outputs": [
    {
     "name": "stdout",
     "output_type": "stream",
     "text": [
      "First Name : Anus\n",
      "Last Name : Yaseen\n",
      "Age : 21\n",
      "City : Karachi\n"
     ]
    }
   ],
   "source": [
    "person={\"first_name\": \"Anus\" , \"last_name\": \"Yaseen\", \"age\": 21 , \"city\": \"Karachi\"}\n",
    "\n",
    "print(\"First Name : \" + person[\"first_name\"])\n",
    "print(\"Last Name : \" + person[\"last_name\"])\n",
    "print(\"Age : \" + str(person[\"age\"]))\n",
    "print(\"City : \" + person[\"city\"])"
   ]
  },
  {
   "cell_type": "code",
   "execution_count": null,
   "metadata": {},
   "outputs": [],
   "source": []
  },
  {
   "cell_type": "markdown",
   "metadata": {},
   "source": [
    "# Q13:"
   ]
  },
  {
   "cell_type": "markdown",
   "metadata": {},
   "source": [
    "\n",
    "Starts with your last question 12 , loop through the dictionary’s keys and values.\n",
    "When you’re sure that your loop works, add five more Python terms to your\n",
    "dictionary . When you run your program again, these new words and meanings\n",
    "should automatically be included in the output."
   ]
  },
  {
   "cell_type": "code",
   "execution_count": 26,
   "metadata": {},
   "outputs": [
    {
     "name": "stdout",
     "output_type": "stream",
     "text": [
      "first_name:Anus\n",
      "last_name:Yaseen\n",
      "age:21\n",
      "city:Karachi\n"
     ]
    }
   ],
   "source": [
    "person={\"first_name\": \"Anus\" , \"last_name\": \"Yaseen\", \"age\": 21 , \"city\": \"Karachi\"}\n",
    "for key,value in person.items():\n",
    "    print(key+\":\"+str(value))"
   ]
  },
  {
   "cell_type": "code",
   "execution_count": 27,
   "metadata": {},
   "outputs": [
    {
     "name": "stdout",
     "output_type": "stream",
     "text": [
      "first_name:Anus\n",
      "last_name:Yaseen\n",
      "age:21\n",
      "city:Karachi\n",
      "Class:User-defined objects\n",
      "Block:Code which is grouped together\n",
      "Dict:Key & Value pairs\n",
      "Condi:Statement that contains an if or if/elif/else.\n",
      "Debug:The process of finding and removing programming errors.\n"
     ]
    }
   ],
   "source": [
    "person[\"Class\"] = \"User-defined objects\"\n",
    "person[\"Block\"] = \"Code which is grouped together\"\n",
    "person[\"Dict\"] = \"Key & Value pairs\"\n",
    "person[\"Condi\"] = \"Statement that contains an if or if/elif/else.\"\n",
    "person[\"Debug\"] = \"The process of finding and removing programming errors.\"\n",
    "\n",
    "for key,value in person.items():\n",
    "    print(key+\":\"+str(value))\n",
    "    \n"
   ]
  },
  {
   "cell_type": "markdown",
   "metadata": {},
   "source": [
    "# Q14:"
   ]
  },
  {
   "cell_type": "markdown",
   "metadata": {},
   "source": [
    "Make a dictionary containing three major rivers and the country\n",
    "each river runs through. One key-value pair might be 'nile': 'egypt'.\n",
    "    \n",
    "    \n",
    "•\t Use a loop to print a sentence about each river, such as The Nile runs\n",
    "through Egypt.\n",
    "\n",
    "NOTE: use upper case through keys and values."
   ]
  },
  {
   "cell_type": "code",
   "execution_count": 19,
   "metadata": {},
   "outputs": [
    {
     "name": "stdout",
     "output_type": "stream",
     "text": [
      "The RAVI runs through PAKISTAN\n",
      "The CHANAAB runs through PAKISTAN\n",
      "The SATLAJ runs through PAKISTAN\n"
     ]
    }
   ],
   "source": [
    "rivers={\"Ravi\":\"Pakistan\",\"Chanaab\":\"Pakistan\",\"Satlaj\":\"Pakistan\"}\n",
    "\n",
    "for key,value in rivers.items():\n",
    "    print(f\"The {key.upper()} runs through {value.upper()}\")"
   ]
  },
  {
   "cell_type": "code",
   "execution_count": null,
   "metadata": {},
   "outputs": [],
   "source": []
  },
  {
   "cell_type": "markdown",
   "metadata": {},
   "source": [
    "# Q15:"
   ]
  },
  {
   "cell_type": "markdown",
   "metadata": {},
   "source": [
    "Make several dictionaries, where the name of each dictionary is the\n",
    "name of a pet. In each dictionary, include the kind of animal and the owner’s\n",
    "name. Store these dictionaries in a list called pets. Next, loop through your list\n",
    "and as you do print everything you know about each pet."
   ]
  },
  {
   "cell_type": "code",
   "execution_count": 12,
   "metadata": {},
   "outputs": [
    {
     "name": "stdout",
     "output_type": "stream",
     "text": [
      "Kind:Mammals\n",
      "Owner:Zayan\n",
      "\n",
      "Kind:Mammals\n",
      "Owner:Anus\n",
      "\n",
      "Kind:Bird\n",
      "Owner:Haris\n",
      "\n"
     ]
    }
   ],
   "source": [
    "elephant={\"Kind\":\"Mammals\",\"Owner\":\"Zayan\"}\n",
    "zebra={\"Kind\":\"Mammals\",\"Owner\":\"Anus\"}\n",
    "eagle={\"Kind\":\"Bird\",\"Owner\":\"Haris\"}\n",
    "\n",
    "pets=[elephant,zebra,eagle]\n",
    "\n",
    "for a in pets:\n",
    "    for key,value in a.items():\n",
    "        print(key+\":\"+value)\n",
    "    print()"
   ]
  },
  {
   "cell_type": "code",
   "execution_count": null,
   "metadata": {},
   "outputs": [],
   "source": []
  },
  {
   "cell_type": "code",
   "execution_count": null,
   "metadata": {},
   "outputs": [],
   "source": []
  }
 ],
 "metadata": {
  "kernelspec": {
   "display_name": "Python 3",
   "language": "python",
   "name": "python3"
  },
  "language_info": {
   "codemirror_mode": {
    "name": "ipython",
    "version": 3
   },
   "file_extension": ".py",
   "mimetype": "text/x-python",
   "name": "python",
   "nbconvert_exporter": "python",
   "pygments_lexer": "ipython3",
   "version": "3.7.1"
  }
 },
 "nbformat": 4,
 "nbformat_minor": 2
}
