{
 "cells": [
  {
   "cell_type": "markdown",
   "metadata": {},
   "source": [
    "Name: M.Daniyal Zakir           \n",
    "Roll No # 000110               \n",
    "Saturday: 9am to 12pm                \n",
    "Gulshan Saylani Campus               "
   ]
  },
  {
   "cell_type": "code",
   "execution_count": 3,
   "metadata": {},
   "outputs": [
    {
     "name": "stdout",
     "output_type": "stream",
     "text": [
      "Enter Task\n",
      "Prayer\n",
      "\n",
      " This task in the todo list: ['Prayer']\n",
      "\n",
      " Remaining Tasks Are: ['Awake', 'Office', 'Traveling', 'Aftar', 'Study', 'Sleep']\n"
     ]
    }
   ],
   "source": [
    "daily_task=[\"Awake\",\"Prayer\",\"Office\",\"Traveling\",\"Aftar\",\"Study\",\"Sleep\"]\n",
    "empty_list=[]\n",
    "user_input=input(\"Enter Task\\n\").title()\n",
    "\n",
    "if user_input in daily_task:\n",
    "    a=daily_task.index(user_input)\n",
    "    daily_task.pop(a)\n",
    "    empty_list.append(user_input)\n",
    "    print(f\"\\n This task in the todo list: {empty_list}\")\n",
    "    print(f\"\\n Remaining Tasks Are: {daily_task}\")\n",
    "elif len(daily_task) < 1:    \n",
    "    print(\"\\n Now your list is empty\")\n",
    "else:\n",
    "    print(\"\\n This task is not in the todo list\")"
   ]
  },
  {
   "cell_type": "code",
   "execution_count": null,
   "metadata": {},
   "outputs": [],
   "source": []
  }
 ],
 "metadata": {
  "kernelspec": {
   "display_name": "Python 3",
   "language": "python",
   "name": "python3"
  },
  "language_info": {
   "codemirror_mode": {
    "name": "ipython",
    "version": 3
   },
   "file_extension": ".py",
   "mimetype": "text/x-python",
   "name": "python",
   "nbconvert_exporter": "python",
   "pygments_lexer": "ipython3",
   "version": "3.7.1"
  }
 },
 "nbformat": 4,
 "nbformat_minor": 2
}
